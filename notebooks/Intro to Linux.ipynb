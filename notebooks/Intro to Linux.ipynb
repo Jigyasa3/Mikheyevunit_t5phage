{
 "cells": [
  {
   "cell_type": "markdown",
   "metadata": {},
   "source": [
    "# History of Linux\n",
    " ## Linux was developed by Linus Torvalds, a computer science student at University of Helsinki. \n",
    " He wanted to make a freely available version of UNIX for home users as UNIX was only available at Universities or Offices. So he developed LINUX. (http://www.tldp.org/LDP/intro-linux/html/sect_01_03.html)"
   ]
  },
  {
   "cell_type": "markdown",
   "metadata": {},
   "source": [
    "## Common Linux commands\n",
    "\n",
    "cd /directorypath\tChange to directory.\n",
    "\n",
    "clear\tClear a command line screen/window for a fresh start.\n",
    "\n",
    "cp [options] source destination\tCopy files and directories.\n",
    "\n",
    "date [options]\tDisplay or set the system date and time.\n",
    "\n",
    "df [options]\tDisplay used and available disk space.\n",
    "\n",
    "du [options]\tShow how much space each file takes up.\n",
    "\n",
    "file [options] filename\tDetermine what type of data is within a file.\n",
    "\n",
    "find [pathname] [expression]\tSearch for files matching a provided pattern.\n",
    "\n",
    "grep [options] pattern [filesname]\tSearch files or output for a particular pattern.\n",
    "\n",
    "less [options] [filename]\tView the contents of a file one page at a time.\n",
    "\n",
    "\n",
    "ls [options]\tList directory contents.\n",
    "\n",
    "man [command]\tDisplay the help information for the specified command.\n",
    "\n",
    "mkdir [options] directory\tCreate a new directory.\n",
    "\n",
    "mv [options]    source destination\tRename or move file(s) or directories.\n",
    "\n",
    "pwd\tDisplay the pathname for the current directory.\n",
    "\n",
    "rm [options] directory\tRemove (delete) file(s) and/or directories.\n",
    "\n",
    "rmdir [options] directory\tDelete empty directories.\n",
    "(http://www.dummies.com/how-to/content/common-linux-commands.html)"
   ]
  },
  {
   "cell_type": "markdown",
   "metadata": {},
   "source": [
    "## Now lets use some of these commands on our phage data"
   ]
  },
  {
   "cell_type": "markdown",
   "metadata": {},
   "source": [
    "### 1. ls command lists the content of the directory"
   ]
  },
  {
   "cell_type": "code",
   "execution_count": 1,
   "metadata": {
    "collapsed": false
   },
   "outputs": [
    {
     "name": "stdout",
     "output_type": "stream",
     "text": [
      " Volume in drive E is Main\n",
      " Volume Serial Number is 40BB-5914\n",
      "\n",
      " Directory of E:\\IDM Downloads\\Mikheyevunit_t5phage\\notebooks\n",
      "\n",
      "2016-08-25  03:12 PM    <DIR>          .\n",
      "2016-08-25  03:12 PM    <DIR>          ..\n",
      "2016-08-25  03:10 PM    <DIR>          .ipynb_checkpoints\n",
      "2016-08-25  02:56 PM            11,095 1. Raw data.ipynb\n",
      "2016-08-25  03:12 PM             2,417 Intro to Linux.ipynb\n",
      "2016-08-25  02:56 PM    <DIR>          reads\n",
      "2016-08-25  03:09 PM                 0 untitled.txt\n",
      "               3 File(s)         13,512 bytes\n",
      "               4 Dir(s)  207,235,039,232 bytes free\n"
     ]
    }
   ],
   "source": [
    "ls"
   ]
  },
  {
   "cell_type": "markdown",
   "metadata": {},
   "source": [
    "### 2.  pwd displays the pathname of the current working directory"
   ]
  },
  {
   "cell_type": "code",
   "execution_count": 2,
   "metadata": {
    "collapsed": false
   },
   "outputs": [
    {
     "data": {
      "text/plain": [
       "u'E:\\\\IDM Downloads\\\\Mikheyevunit_t5phage\\\\notebooks'"
      ]
     },
     "execution_count": 2,
     "metadata": {},
     "output_type": "execute_result"
    }
   ],
   "source": [
    "pwd"
   ]
  },
  {
   "cell_type": "markdown",
   "metadata": {},
   "source": [
    "### 3. cd helps to change the current directory"
   ]
  },
  {
   "cell_type": "code",
   "execution_count": 3,
   "metadata": {
    "collapsed": false
   },
   "outputs": [
    {
     "name": "stdout",
     "output_type": "stream",
     "text": [
      "E:\\IDM Downloads\\Mikheyevunit_t5phage\\notebooks\\reads\n"
     ]
    }
   ],
   "source": [
    "cd reads"
   ]
  },
  {
   "cell_type": "markdown",
   "metadata": {},
   "source": [
    "###  4. cd .. takes you back to parent directory which is \"notebooks\" in this case.\n",
    "### You can also use cd / which takes you to the root directory"
   ]
  },
  {
   "cell_type": "code",
   "execution_count": 11,
   "metadata": {
    "collapsed": false
   },
   "outputs": [
    {
     "name": "stdout",
     "output_type": "stream",
     "text": [
      "E:\\IDM Downloads\\Mikheyevunit_t5phage\n"
     ]
    }
   ],
   "source": [
    "cd .."
   ]
  },
  {
   "cell_type": "markdown",
   "metadata": {},
   "source": [
    "### 5. ls -lh lists the files in long format with readable file size\n",
    "### ./ runs a file in current directory"
   ]
  },
  {
   "cell_type": "code",
   "execution_count": 22,
   "metadata": {
    "collapsed": false
   },
   "outputs": [
    {
     "name": "stderr",
     "output_type": "stream",
     "text": [
      "Parameter format not correct - \"reads\".\n"
     ]
    }
   ],
   "source": [
    "ls -lh ./reads"
   ]
  },
  {
   "cell_type": "code",
   "execution_count": 10,
   "metadata": {
    "collapsed": false
   },
   "outputs": [
    {
     "name": "stdout",
     "output_type": "stream",
     "text": [
      " Volume in drive E is Main\n",
      " Volume Serial Number is 40BB-5914\n",
      "\n",
      " Directory of E:\\IDM Downloads\\Mikheyevunit_t5phage\\notebooks\\reads\n",
      "\n",
      "2016-08-25  02:56 PM    <DIR>          .\n",
      "2016-08-25  02:56 PM    <DIR>          ..\n",
      "2016-08-25  02:56 PM        24,437,933 mutant1_OIST-2015-03-28.fq.gz\n",
      "2016-08-25  02:56 PM        24,311,933 mutant2_OIST-2015-03-28.fq.gz\n",
      "2016-08-25  02:56 PM        18,584,475 mutant3_OIST-2015-03-28.fq.gz\n",
      "2016-08-25  02:56 PM        24,182,938 mutant4_OIST-2015-03-28.fq.gz\n",
      "2016-08-25  02:56 PM        20,628,386 reference_OIST-2015-03-28.fq.gz\n",
      "               5 File(s)    112,145,665 bytes\n",
      "               2 Dir(s)  207,235,035,136 bytes free\n"
     ]
    }
   ],
   "source": [
    "ls reads"
   ]
  },
  {
   "cell_type": "code",
   "execution_count": null,
   "metadata": {
    "collapsed": true
   },
   "outputs": [],
   "source": []
  }
 ],
 "metadata": {
  "kernelspec": {
   "display_name": "Python 2",
   "language": "python",
   "name": "python2"
  },
  "language_info": {
   "codemirror_mode": {
    "name": "ipython",
    "version": 2
   },
   "file_extension": ".py",
   "mimetype": "text/x-python",
   "name": "python",
   "nbconvert_exporter": "python",
   "pygments_lexer": "ipython2",
   "version": "2.7.11"
  }
 },
 "nbformat": 4,
 "nbformat_minor": 0
}
