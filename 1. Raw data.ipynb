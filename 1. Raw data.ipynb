{
 "cells": [
  {
   "cell_type": "markdown",
   "metadata": {},
   "source": [
    "# What do the data look like?\n",
    "\n",
    "Jupyter IPython notebooks, such as this one, allow you to run both Python code and, using 'magics' also shell commands. In this tutorial we'll use both, since we will be interfacing with a variety of software, as well as processing data.\n",
    "\n",
    "First, let's look around in the directory using standard Linux commands. We can execute a shell command by preceding it with an exclamation mark."
   ]
  },
  {
   "cell_type": "code",
   "execution_count": 5,
   "metadata": {
    "collapsed": false
   },
   "outputs": [
    {
     "name": "stdout",
     "output_type": "stream",
     "text": [
      "total 219064\r\n",
      "-rw-r--r--@ 1 sasha  staff    23M Jul 18 21:29 mutant1_OIST-2015-03-28.fq.gz\r\n",
      "-rw-r--r--@ 1 sasha  staff    23M Jul 18 21:29 mutant2_OIST-2015-03-28.fq.gz\r\n",
      "-rw-r--r--@ 1 sasha  staff    18M Jul 18 21:29 mutant3_OIST-2015-03-28.fq.gz\r\n",
      "-rw-r--r--@ 1 sasha  staff    23M Jul 18 21:30 mutant4_OIST-2015-03-28.fq.gz\r\n",
      "-rw-r--r--@ 1 sasha  staff    20M Jul 18 21:30 reference_OIST-2015-03-28.fq.gz\r\n"
     ]
    }
   ],
   "source": [
    "!ls -lh ./reads"
   ]
  },
  {
   "cell_type": "markdown",
   "metadata": {},
   "source": [
    "We see that there are five files four of these are mutants, and and one reference original sample.\n",
    "We will take a look inside one of the files and look at the distribution of read statistics.\n",
    "\n",
    "The reads are in text files, which have been compressed using `gzip`, a common practice for storing raw data. You can look inside by decompressing a file, piping the output to a program called `head`, which will stop after a few lines. You don't want to print the contents of the entire file to screen, since it will likely crash IPython."
   ]
  },
  {
   "cell_type": "code",
   "execution_count": 16,
   "metadata": {
    "collapsed": false
   },
   "outputs": [
    {
     "name": "stdout",
     "output_type": "stream",
     "text": [
      "@M00923:134:000000000-A5ELA:1:2109:24002:5853\r\n",
      "ATGCCTATATTGGTTAAAGTATTTAGTGACCTAAGTCAATAAAATTTTAATTTACTCACGGCAGGTAACCAGTTCAGAAGCTGCTATCAGACACTCTTTTTTTAATCCACACAGAGACATATTGCCCGTTGCAGTCAGAATGAAAAGCTGA\r\n",
      "+\r\n",
      "CCCCCGGGGGGGGGGGGGGGGGGFGGGGGGGGGGGFGGGGGGGGGGGGGGGGGGGGGGGGGGGGGGGGGGGGGGGGGGFGGGGGGGGGGGGGGGGGGGGGGDGGGGGGGGGGGGGGGGGGCGGFGGGGGGGGGGGGGGGDFFGGGGGGGGF\r\n",
      "@M00923:134:000000000-A5ELA:1:2110:26800:16309\r\n",
      "CCTATATTGGTTAAAGTATTTAGTGACCTAAGTCAATAAAATTTTAATTTACTCACGGCAGGTAACCAGTTCAGAAGCTGCTATCAGACACTCTTTTTTTAATCCACACCGAGACATATTGCCCGTTGCAGTCAGAATGAAAAGCTGAATA\r\n",
      "+\r\n",
      "-A-<-CCFDC6,C6C,@FEGGFD,CFEFGC@EFDFD,<,,,,,;E,6C@CFGA,6C,8C:++C<FFC<@F99E@<@,,,@,C96,6696F<E@EF<EF+4,A@A,9=,4,+8+>:<F,??,:EB,@?+@4,CFG;F,=,,4,,,@E=4=,4\r\n",
      "gunzip: error writing to output: Broken pipe\r\n",
      "gunzip: reads/mutant1_OIST-2015-03-28.fq.gz: uncompress failed\r\n"
     ]
    }
   ],
   "source": [
    "!gunzip -c reads/mutant1_OIST-2015-03-28.fq.gz | head -8"
   ]
  },
  {
   "cell_type": "markdown",
   "metadata": {},
   "source": [
    "Each read in the fastq file format has four lines, one is a unique read name, one containing the sequence of bases, one `+`, and one containing quality scores. The quality scores correspond to the sequencer's confidence in making the base call.\n",
    "\n",
    "It is good practice to examine the quality of your data before you proceed with the analysis. We'll use a popular tools called [FastQC](http://www.bioinformatics.babraham.ac.uk/projects/fastqc/) to do some exploratory analysis."
   ]
  },
  {
   "cell_type": "code",
   "execution_count": 7,
   "metadata": {
    "collapsed": false
   },
   "outputs": [
    {
     "name": "stdout",
     "output_type": "stream",
     "text": [
      "Started analysis of mutant1_OIST-2015-03-28.fq.gz\n",
      "Approx 5% complete for mutant1_OIST-2015-03-28.fq.gz\n",
      "Approx 10% complete for mutant1_OIST-2015-03-28.fq.gz\n",
      "Approx 15% complete for mutant1_OIST-2015-03-28.fq.gz\n",
      "Approx 20% complete for mutant1_OIST-2015-03-28.fq.gz\n",
      "Approx 25% complete for mutant1_OIST-2015-03-28.fq.gz\n",
      "Approx 30% complete for mutant1_OIST-2015-03-28.fq.gz\n",
      "Approx 35% complete for mutant1_OIST-2015-03-28.fq.gz\n",
      "Approx 40% complete for mutant1_OIST-2015-03-28.fq.gz\n",
      "Approx 45% complete for mutant1_OIST-2015-03-28.fq.gz\n",
      "Approx 50% complete for mutant1_OIST-2015-03-28.fq.gz\n",
      "Approx 55% complete for mutant1_OIST-2015-03-28.fq.gz\n",
      "Approx 60% complete for mutant1_OIST-2015-03-28.fq.gz\n",
      "Approx 65% complete for mutant1_OIST-2015-03-28.fq.gz\n",
      "Approx 70% complete for mutant1_OIST-2015-03-28.fq.gz\n",
      "Approx 75% complete for mutant1_OIST-2015-03-28.fq.gz\n",
      "Approx 80% complete for mutant1_OIST-2015-03-28.fq.gz\n",
      "Approx 85% complete for mutant1_OIST-2015-03-28.fq.gz\n",
      "Approx 90% complete for mutant1_OIST-2015-03-28.fq.gz\n",
      "Approx 95% complete for mutant1_OIST-2015-03-28.fq.gz\n",
      "Analysis complete for mutant1_OIST-2015-03-28.fq.gz\n"
     ]
    }
   ],
   "source": [
    "!fastqc reads/mutant1_OIST-2015-03-28.fq.gz"
   ]
  },
  {
   "cell_type": "code",
   "execution_count": 10,
   "metadata": {
    "collapsed": false
   },
   "outputs": [
    {
     "data": {
      "text/html": [
       "\n",
       "        <iframe\n",
       "            width=\"1000\"\n",
       "            height=\"1000\"\n",
       "            src=\"reads/mutant1_OIST-2015-03-28_fastqc.html\"\n",
       "            frameborder=\"0\"\n",
       "            allowfullscreen\n",
       "        ></iframe>\n",
       "        "
      ],
      "text/plain": [
       "<IPython.lib.display.IFrame at 0x1047baa20>"
      ]
     },
     "execution_count": 10,
     "metadata": {},
     "output_type": "execute_result"
    }
   ],
   "source": [
    "from IPython.display import IFrame\n",
    "IFrame('reads/mutant1_OIST-2015-03-28_fastqc.html', width=1000, height=1000)"
   ]
  },
  {
   "cell_type": "markdown",
   "metadata": {},
   "source": [
    "## Exercises and questions\n",
    "Exercises should be done in Python or bash.\n",
    "1. Write a for loop to run FastQC on all the samples, and examine their output.\n",
    "- If you look a the \"Per base sequence quality\" in FastQC, you'll see that the quality decreases. Why does that happen? \n",
    "- What does a score of 20 correspond to? (Hint: these are called phred scores)\n",
    "- Look at the quality scores associated with the first read in `reads/mutant1_OIST-2015-03-28.fq.g` named `M00923:134:000000000-A5ELA:1:2109:24002:5853`. What is the average error rate? How many errors can we expect per read?\n",
    "- Check out the \"Sequence Duplication Levels\" report. Why would there be duplicated sequences?"
   ]
  },
  {
   "cell_type": "code",
   "execution_count": null,
   "metadata": {
    "collapsed": true
   },
   "outputs": [],
   "source": []
  }
 ],
 "metadata": {
  "kernelspec": {
   "display_name": "IPython (Python 3)",
   "language": "python",
   "name": "python3"
  },
  "language_info": {
   "codemirror_mode": {
    "name": "ipython",
    "version": 3
   },
   "file_extension": ".py",
   "mimetype": "text/x-python",
   "name": "python",
   "nbconvert_exporter": "python",
   "pygments_lexer": "ipython3",
   "version": "3.4.5"
  }
 },
 "nbformat": 4,
 "nbformat_minor": 0
}
